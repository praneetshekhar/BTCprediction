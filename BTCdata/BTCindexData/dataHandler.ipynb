{
 "cells": [
  {
   "cell_type": "code",
   "execution_count": 1,
   "id": "c2813ff7",
   "metadata": {},
   "outputs": [
    {
     "name": "stderr",
     "output_type": "stream",
     "text": [
      "Matplotlib is building the font cache; this may take a moment.\n"
     ]
    }
   ],
   "source": [
    "import pandas as pd\n",
    "import numpy as np\n",
    "import matplotlib.pyplot as plt\n",
    "import seaborn as sbplt\n",
    "import sklearn"
   ]
  },
  {
   "cell_type": "code",
   "execution_count": 15,
   "id": "1415e214",
   "metadata": {},
   "outputs": [
    {
     "name": "stdout",
     "output_type": "stream",
     "text": [
      "Choose training dataset(accuracy varies based on this)\n",
      " ['Day', 'Month', '3 Months', 'All Time'] \n",
      "Enter 1,2,3 or 4 based the above list\n",
      "2\n",
      "Loading CoinDesk_Data/BTC_1m.csv  ...\n",
      "Done.\n"
     ]
    }
   ],
   "source": [
    "dataChoice=['Day','Month','3 Months','All Time']\n",
    "suffix=['day','1m','3m','all']\n",
    "print(\"Choose training dataset(accuracy varies based on this)\\n\",dataChoice,\"\\nEnter 1,2,3 or 4 based the above list\")\n",
    "c=int(input())-1\n",
    "dataToLoad=suffix[c].join(['BTC_','.csv'])\n",
    "path='CoinDesk_Data/'+dataToLoad\n",
    "print(path.join(['Loading ','  ...']))\n",
    "df=pd.read_csv(path) #dataframe\n",
    "print(\"Done.\")"
   ]
  },
  {
   "cell_type": "code",
   "execution_count": 16,
   "id": "b7c9a4f9",
   "metadata": {},
   "outputs": [
    {
     "data": {
      "text/html": [
       "<div>\n",
       "<style scoped>\n",
       "    .dataframe tbody tr th:only-of-type {\n",
       "        vertical-align: middle;\n",
       "    }\n",
       "\n",
       "    .dataframe tbody tr th {\n",
       "        vertical-align: top;\n",
       "    }\n",
       "\n",
       "    .dataframe thead th {\n",
       "        text-align: right;\n",
       "    }\n",
       "</style>\n",
       "<table border=\"1\" class=\"dataframe\">\n",
       "  <thead>\n",
       "    <tr style=\"text-align: right;\">\n",
       "      <th></th>\n",
       "      <th>Currency</th>\n",
       "      <th>Date</th>\n",
       "      <th>Closing Price (USD)</th>\n",
       "      <th>24h Open (USD)</th>\n",
       "      <th>24h High (USD)</th>\n",
       "      <th>24h Low (USD)</th>\n",
       "    </tr>\n",
       "  </thead>\n",
       "  <tbody>\n",
       "    <tr>\n",
       "      <th>0</th>\n",
       "      <td>BTC</td>\n",
       "      <td>2021-04-15</td>\n",
       "      <td>62398.734968</td>\n",
       "      <td>62220.992332</td>\n",
       "      <td>63069.590697</td>\n",
       "      <td>62094.632914</td>\n",
       "    </tr>\n",
       "    <tr>\n",
       "      <th>1</th>\n",
       "      <td>BTC</td>\n",
       "      <td>2021-04-16</td>\n",
       "      <td>61811.862807</td>\n",
       "      <td>62609.234950</td>\n",
       "      <td>63850.250735</td>\n",
       "      <td>60033.534667</td>\n",
       "    </tr>\n",
       "    <tr>\n",
       "      <th>2</th>\n",
       "      <td>BTC</td>\n",
       "      <td>2021-04-17</td>\n",
       "      <td>60603.083851</td>\n",
       "      <td>61680.776222</td>\n",
       "      <td>62534.028498</td>\n",
       "      <td>60104.939037</td>\n",
       "    </tr>\n",
       "    <tr>\n",
       "      <th>3</th>\n",
       "      <td>BTC</td>\n",
       "      <td>2021-04-18</td>\n",
       "      <td>55246.548090</td>\n",
       "      <td>59900.331027</td>\n",
       "      <td>61118.879385</td>\n",
       "      <td>52148.983544</td>\n",
       "    </tr>\n",
       "    <tr>\n",
       "      <th>4</th>\n",
       "      <td>BTC</td>\n",
       "      <td>2021-04-19</td>\n",
       "      <td>55423.666711</td>\n",
       "      <td>55316.212448</td>\n",
       "      <td>57609.368118</td>\n",
       "      <td>54449.245330</td>\n",
       "    </tr>\n",
       "  </tbody>\n",
       "</table>\n",
       "</div>"
      ],
      "text/plain": [
       "  Currency        Date  Closing Price (USD)  24h Open (USD)  24h High (USD)  \\\n",
       "0      BTC  2021-04-15         62398.734968    62220.992332    63069.590697   \n",
       "1      BTC  2021-04-16         61811.862807    62609.234950    63850.250735   \n",
       "2      BTC  2021-04-17         60603.083851    61680.776222    62534.028498   \n",
       "3      BTC  2021-04-18         55246.548090    59900.331027    61118.879385   \n",
       "4      BTC  2021-04-19         55423.666711    55316.212448    57609.368118   \n",
       "\n",
       "   24h Low (USD)  \n",
       "0   62094.632914  \n",
       "1   60033.534667  \n",
       "2   60104.939037  \n",
       "3   52148.983544  \n",
       "4   54449.245330  "
      ]
     },
     "execution_count": 16,
     "metadata": {},
     "output_type": "execute_result"
    }
   ],
   "source": [
    "#check received data\n",
    "df.head()"
   ]
  },
  {
   "cell_type": "code",
   "execution_count": 18,
   "id": "6992e3b7",
   "metadata": {},
   "outputs": [
    {
     "data": {
      "text/html": [
       "<div>\n",
       "<style scoped>\n",
       "    .dataframe tbody tr th:only-of-type {\n",
       "        vertical-align: middle;\n",
       "    }\n",
       "\n",
       "    .dataframe tbody tr th {\n",
       "        vertical-align: top;\n",
       "    }\n",
       "\n",
       "    .dataframe thead th {\n",
       "        text-align: right;\n",
       "    }\n",
       "</style>\n",
       "<table border=\"1\" class=\"dataframe\">\n",
       "  <thead>\n",
       "    <tr style=\"text-align: right;\">\n",
       "      <th></th>\n",
       "      <th>index</th>\n",
       "      <th>date</th>\n",
       "      <th>close</th>\n",
       "      <th>open</th>\n",
       "      <th>high</th>\n",
       "      <th>low</th>\n",
       "    </tr>\n",
       "  </thead>\n",
       "  <tbody>\n",
       "    <tr>\n",
       "      <th>0</th>\n",
       "      <td>BTC</td>\n",
       "      <td>2021-04-15</td>\n",
       "      <td>62398.734968</td>\n",
       "      <td>62220.992332</td>\n",
       "      <td>63069.590697</td>\n",
       "      <td>62094.632914</td>\n",
       "    </tr>\n",
       "    <tr>\n",
       "      <th>1</th>\n",
       "      <td>BTC</td>\n",
       "      <td>2021-04-16</td>\n",
       "      <td>61811.862807</td>\n",
       "      <td>62609.234950</td>\n",
       "      <td>63850.250735</td>\n",
       "      <td>60033.534667</td>\n",
       "    </tr>\n",
       "    <tr>\n",
       "      <th>2</th>\n",
       "      <td>BTC</td>\n",
       "      <td>2021-04-17</td>\n",
       "      <td>60603.083851</td>\n",
       "      <td>61680.776222</td>\n",
       "      <td>62534.028498</td>\n",
       "      <td>60104.939037</td>\n",
       "    </tr>\n",
       "    <tr>\n",
       "      <th>3</th>\n",
       "      <td>BTC</td>\n",
       "      <td>2021-04-18</td>\n",
       "      <td>55246.548090</td>\n",
       "      <td>59900.331027</td>\n",
       "      <td>61118.879385</td>\n",
       "      <td>52148.983544</td>\n",
       "    </tr>\n",
       "    <tr>\n",
       "      <th>4</th>\n",
       "      <td>BTC</td>\n",
       "      <td>2021-04-19</td>\n",
       "      <td>55423.666711</td>\n",
       "      <td>55316.212448</td>\n",
       "      <td>57609.368118</td>\n",
       "      <td>54449.245330</td>\n",
       "    </tr>\n",
       "  </tbody>\n",
       "</table>\n",
       "</div>"
      ],
      "text/plain": [
       "  index        date         close          open          high           low\n",
       "0   BTC  2021-04-15  62398.734968  62220.992332  63069.590697  62094.632914\n",
       "1   BTC  2021-04-16  61811.862807  62609.234950  63850.250735  60033.534667\n",
       "2   BTC  2021-04-17  60603.083851  61680.776222  62534.028498  60104.939037\n",
       "3   BTC  2021-04-18  55246.548090  59900.331027  61118.879385  52148.983544\n",
       "4   BTC  2021-04-19  55423.666711  55316.212448  57609.368118  54449.245330"
      ]
     },
     "execution_count": 18,
     "metadata": {},
     "output_type": "execute_result"
    }
   ],
   "source": [
    "#renaming columns for convenience\n",
    "df=df.rename(columns={'Currency':'index','Date':'date','Closing Price (USD)':'close','24h Open (USD)':'open','24h High (USD)':'high','24h Low (USD)':'low'})\n",
    "df.head()"
   ]
  },
  {
   "cell_type": "code",
   "execution_count": 3,
   "id": "974cbb7a",
   "metadata": {},
   "outputs": [
    {
     "data": {
      "text/plain": [
       "' \\'\\'\\'when needed\\'\\'\\'\\ntry:\\n    import scipy as spy\\n    print(\"Imported scipy\")\\nexcept ImportError:\\n    print(\"Some error occured\")\\n    \\n'"
      ]
     },
     "execution_count": 3,
     "metadata": {},
     "output_type": "execute_result"
    }
   ],
   "source": [
    "#getting the data ready for time-series modelling\n",
    "#check for scipt\n",
    "\"\"\" '''when needed'''\n",
    "try:\n",
    "    import scipy as spy\n",
    "    print(\"Imported scipy\")\n",
    "except ImportError:\n",
    "    print(\"Some error occured\")\n",
    "    \n",
    "\"\"\""
   ]
  },
  {
   "cell_type": "code",
   "execution_count": 5,
   "id": "98a8dca4",
   "metadata": {},
   "outputs": [
    {
     "ename": "ModuleNotFoundError",
     "evalue": "No module named 'tensorflow'",
     "output_type": "error",
     "traceback": [
      "\u001b[0;31m---------------------------------------------------------------------------\u001b[0m",
      "\u001b[0;31mModuleNotFoundError\u001b[0m                       Traceback (most recent call last)",
      "\u001b[0;32m<ipython-input-5-b43a7448af40>\u001b[0m in \u001b[0;36m<module>\u001b[0;34m\u001b[0m\n\u001b[0;32m----> 1\u001b[0;31m \u001b[0;32mimport\u001b[0m \u001b[0mtensorflow\u001b[0m \u001b[0;32mas\u001b[0m \u001b[0mtf\u001b[0m\u001b[0;34m\u001b[0m\u001b[0;34m\u001b[0m\u001b[0m\n\u001b[0m\u001b[1;32m      2\u001b[0m \u001b[0;32mimport\u001b[0m \u001b[0mkeras\u001b[0m\u001b[0;34m\u001b[0m\u001b[0;34m\u001b[0m\u001b[0m\n",
      "\u001b[0;31mModuleNotFoundError\u001b[0m: No module named 'tensorflow'"
     ]
    }
   ],
   "source": [
    "import tensorflow as tf\n",
    "import keras"
   ]
  },
  {
   "cell_type": "code",
   "execution_count": 6,
   "id": "e80664d9",
   "metadata": {},
   "outputs": [],
   "source": [
    "from os import system"
   ]
  },
  {
   "cell_type": "code",
   "execution_count": 8,
   "id": "82582c8f",
   "metadata": {},
   "outputs": [
    {
     "data": {
      "text/plain": [
       "0"
      ]
     },
     "execution_count": 8,
     "metadata": {},
     "output_type": "execute_result"
    }
   ],
   "source": [
    "system('conda install tensorflow')"
   ]
  },
  {
   "cell_type": "code",
   "execution_count": null,
   "id": "9e3d6c18",
   "metadata": {},
   "outputs": [],
   "source": []
  }
 ],
 "metadata": {
  "kernelspec": {
   "display_name": "Python 3",
   "language": "python",
   "name": "python3"
  },
  "language_info": {
   "codemirror_mode": {
    "name": "ipython",
    "version": 3
   },
   "file_extension": ".py",
   "mimetype": "text/x-python",
   "name": "python",
   "nbconvert_exporter": "python",
   "pygments_lexer": "ipython3",
   "version": "3.8.8"
  }
 },
 "nbformat": 4,
 "nbformat_minor": 5
}
